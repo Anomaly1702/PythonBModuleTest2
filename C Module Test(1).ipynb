{
 "cells": [
  {
   "cell_type": "code",
   "execution_count": 2,
   "metadata": {
    "ExecuteTime": {
     "end_time": "2022-03-06T01:16:09.956706Z",
     "start_time": "2022-03-06T01:16:09.950721Z"
    }
   },
   "outputs": [],
   "source": [
    "import pandas as pd\n",
    "import numpy as np\n",
    "from numpy import save\n",
    "%matplotlib inline"
   ]
  },
  {
   "cell_type": "markdown",
   "metadata": {},
   "source": [
    "# C | Module Test"
   ]
  },
  {
   "cell_type": "markdown",
   "metadata": {},
   "source": [
    "<!-- BEGIN QUESTION -->\n",
    "\n",
    "## Part I&nbsp;&nbsp;&nbsp;&nbsp;&nbsp;&nbsp;(10 Points)"
   ]
  },
  {
   "cell_type": "code",
   "execution_count": 4,
   "metadata": {
    "ExecuteTime": {
     "start_time": "2022-03-06T09:10:36.341Z"
    },
    "tags": []
   },
   "outputs": [],
   "source": [
    "# Write your solution here\n",
    "try:\n",
    "    f = open('Summaries.txt','x')\n",
    "    f.write('Alice in Wonderland\\n\\n')\n",
    "    f1 = open('Alice.txt','r+')\n",
    "    x = f1.read()\n",
    "    f.write(x)\n",
    "    f1.close()\n",
    "    f.write(\"\\n\\n\\n\\n\\n\")\n",
    "    f.write('Wizard of Oz\\n\\n')\n",
    "    f2 = open('Oz.txt','r+')\n",
    "    y = f2.read()\n",
    "    f.write(x)\n",
    "    f2.close()\n",
    "    f.close()\n",
    "except:\n",
    "    pass"
   ]
  },
  {
   "cell_type": "markdown",
   "metadata": {},
   "source": [
    "<!-- END QUESTION -->\n",
    "\n",
    "<!-- BEGIN QUESTION -->\n",
    "\n",
    "## Part II&nbsp;&nbsp;&nbsp;&nbsp;&nbsp;&nbsp;(15 Points)"
   ]
  },
  {
   "cell_type": "code",
   "execution_count": 27,
   "metadata": {
    "tags": []
   },
   "outputs": [
    {
     "name": "stdout",
     "output_type": "stream",
     "text": [
      "[[22 39 97 21 45]\n",
      " [94 40 15 27 82]\n",
      " [91 23 67  3 64]] \n",
      "\n",
      "[[ 25   9]\n",
      " [625  81]] \n",
      "\n",
      "(11, 10)\n",
      "(10, 11)\n"
     ]
    },
    {
     "ename": "ValueError",
     "evalue": "operands could not be broadcast together with shapes (11,10) (10,11) ",
     "output_type": "error",
     "traceback": [
      "\u001b[1;31m---------------------------------------------------------------------------\u001b[0m",
      "\u001b[1;31mValueError\u001b[0m                                Traceback (most recent call last)",
      "\u001b[1;32m<ipython-input-27-9cf49787c102>\u001b[0m in \u001b[0;36m<module>\u001b[1;34m\u001b[0m\n\u001b[0;32m     13\u001b[0m \u001b[0mprint\u001b[0m\u001b[1;33m(\u001b[0m\u001b[0mm10\u001b[0m\u001b[1;33m.\u001b[0m\u001b[0mshape\u001b[0m\u001b[1;33m)\u001b[0m\u001b[1;33m\u001b[0m\u001b[1;33m\u001b[0m\u001b[0m\n\u001b[0;32m     14\u001b[0m \u001b[0mprint\u001b[0m\u001b[1;33m(\u001b[0m\u001b[0marr3\u001b[0m\u001b[1;33m.\u001b[0m\u001b[0mshape\u001b[0m\u001b[1;33m)\u001b[0m\u001b[1;33m\u001b[0m\u001b[1;33m\u001b[0m\u001b[0m\n\u001b[1;32m---> 15\u001b[1;33m \u001b[0mprint\u001b[0m\u001b[1;33m(\u001b[0m\u001b[0mnp\u001b[0m\u001b[1;33m.\u001b[0m\u001b[0mmultiply\u001b[0m\u001b[1;33m(\u001b[0m\u001b[0mm10\u001b[0m\u001b[1;33m,\u001b[0m\u001b[0marr3\u001b[0m\u001b[1;33m)\u001b[0m\u001b[1;33m)\u001b[0m\u001b[1;33m\u001b[0m\u001b[1;33m\u001b[0m\u001b[0m\n\u001b[0m\u001b[0;32m     16\u001b[0m \u001b[1;31m#result_arr = np.subtract(np.add(arr1,np.multiply(m10,arr3)),arr2)\u001b[0m\u001b[1;33m\u001b[0m\u001b[1;33m\u001b[0m\u001b[1;33m\u001b[0m\u001b[0m\n\u001b[0;32m     17\u001b[0m \u001b[1;31m#print(result_arr)\u001b[0m\u001b[1;33m\u001b[0m\u001b[1;33m\u001b[0m\u001b[1;33m\u001b[0m\u001b[0m\n",
      "\u001b[1;31mValueError\u001b[0m: operands could not be broadcast together with shapes (11,10) (10,11) "
     ]
    }
   ],
   "source": [
    "import numpy as np\n",
    "file=np.load('./numpy_arrays.npz')\n",
    "arr1,arr2,arr3=file.files\n",
    "arr1,arr2,arr3=file[arr1],files[arr2],files[arr3]\n",
    "result_arr=None\n",
    "# Write your solution here\n",
    "\n",
    "arr1 = arr1[2::,::]\n",
    "print(arr1,'\\n')\n",
    "arr2 = arr2[:6:2,11:1:-2]\n",
    "print(arr2,'\\n')\n",
    "m10= np.array([[10,10,10,10,10,10,10,10,10,10],[10,10,10,10,10,10,10,10,10,10],[10,10,10,10,10,10,10,10,10,10],[10,10,10,10,10,10,10,10,10,10],[10,10,10,10,10,10,10,10,10,10],[10,10,10,10,10,10,10,10,10,10],[10,10,10,10,10,10,10,10,10,10],[10,10,10,10,10,10,10,10,10,10],[10,10,10,10,10,10,10,10,10,10],[10,10,10,10,10,10,10,10,10,10],[10,10,10,10,10,10,10,10,10,10]])\n",
    "print(m10.shape)\n",
    "print(arr3.shape)\n",
    "print(np.multiply(m10,arr3))\n",
    "#result_arr = np.subtract(np.add(arr1,np.multiply(m10,arr3)),arr2)\n",
    "#print(result_arr)"
   ]
  },
  {
   "cell_type": "markdown",
   "metadata": {},
   "source": [
    "<!-- END QUESTION -->\n",
    "\n",
    "<!-- BEGIN QUESTION -->\n",
    "\n",
    "## Part III&nbsp;&nbsp;&nbsp;&nbsp;&nbsp;&nbsp;(25 Points)"
   ]
  },
  {
   "cell_type": "code",
   "execution_count": 46,
   "metadata": {
    "ExecuteTime": {
     "start_time": "2022-03-06T09:13:57.500Z"
    },
    "tags": []
   },
   "outputs": [
    {
     "ename": "ValueError",
     "evalue": "Shape of passed values is (406, 1), indices imply (406, 9)",
     "output_type": "error",
     "traceback": [
      "\u001b[1;31m---------------------------------------------------------------------------\u001b[0m",
      "\u001b[1;31mValueError\u001b[0m                                Traceback (most recent call last)",
      "\u001b[1;32mC:\\ProgramData\\Anaconda3\\lib\\site-packages\\pandas\\core\\internals\\managers.py\u001b[0m in \u001b[0;36mcreate_block_manager_from_blocks\u001b[1;34m(blocks, axes)\u001b[0m\n\u001b[0;32m   1670\u001b[0m                 blocks = [\n\u001b[1;32m-> 1671\u001b[1;33m                     \u001b[0mmake_block\u001b[0m\u001b[1;33m(\u001b[0m\u001b[0mvalues\u001b[0m\u001b[1;33m=\u001b[0m\u001b[0mblocks\u001b[0m\u001b[1;33m[\u001b[0m\u001b[1;36m0\u001b[0m\u001b[1;33m]\u001b[0m\u001b[1;33m,\u001b[0m \u001b[0mplacement\u001b[0m\u001b[1;33m=\u001b[0m\u001b[0mslice\u001b[0m\u001b[1;33m(\u001b[0m\u001b[1;36m0\u001b[0m\u001b[1;33m,\u001b[0m \u001b[0mlen\u001b[0m\u001b[1;33m(\u001b[0m\u001b[0maxes\u001b[0m\u001b[1;33m[\u001b[0m\u001b[1;36m0\u001b[0m\u001b[1;33m]\u001b[0m\u001b[1;33m)\u001b[0m\u001b[1;33m)\u001b[0m\u001b[1;33m)\u001b[0m\u001b[1;33m\u001b[0m\u001b[1;33m\u001b[0m\u001b[0m\n\u001b[0m\u001b[0;32m   1672\u001b[0m                 ]\n",
      "\u001b[1;32mC:\\ProgramData\\Anaconda3\\lib\\site-packages\\pandas\\core\\internals\\blocks.py\u001b[0m in \u001b[0;36mmake_block\u001b[1;34m(values, placement, klass, ndim, dtype)\u001b[0m\n\u001b[0;32m   2743\u001b[0m \u001b[1;33m\u001b[0m\u001b[0m\n\u001b[1;32m-> 2744\u001b[1;33m     \u001b[1;32mreturn\u001b[0m \u001b[0mklass\u001b[0m\u001b[1;33m(\u001b[0m\u001b[0mvalues\u001b[0m\u001b[1;33m,\u001b[0m \u001b[0mndim\u001b[0m\u001b[1;33m=\u001b[0m\u001b[0mndim\u001b[0m\u001b[1;33m,\u001b[0m \u001b[0mplacement\u001b[0m\u001b[1;33m=\u001b[0m\u001b[0mplacement\u001b[0m\u001b[1;33m)\u001b[0m\u001b[1;33m\u001b[0m\u001b[1;33m\u001b[0m\u001b[0m\n\u001b[0m\u001b[0;32m   2745\u001b[0m \u001b[1;33m\u001b[0m\u001b[0m\n",
      "\u001b[1;32mC:\\ProgramData\\Anaconda3\\lib\\site-packages\\pandas\\core\\internals\\blocks.py\u001b[0m in \u001b[0;36m__init__\u001b[1;34m(self, values, placement, ndim)\u001b[0m\n\u001b[0;32m   2399\u001b[0m \u001b[1;33m\u001b[0m\u001b[0m\n\u001b[1;32m-> 2400\u001b[1;33m         \u001b[0msuper\u001b[0m\u001b[1;33m(\u001b[0m\u001b[1;33m)\u001b[0m\u001b[1;33m.\u001b[0m\u001b[0m__init__\u001b[0m\u001b[1;33m(\u001b[0m\u001b[0mvalues\u001b[0m\u001b[1;33m,\u001b[0m \u001b[0mndim\u001b[0m\u001b[1;33m=\u001b[0m\u001b[0mndim\u001b[0m\u001b[1;33m,\u001b[0m \u001b[0mplacement\u001b[0m\u001b[1;33m=\u001b[0m\u001b[0mplacement\u001b[0m\u001b[1;33m)\u001b[0m\u001b[1;33m\u001b[0m\u001b[1;33m\u001b[0m\u001b[0m\n\u001b[0m\u001b[0;32m   2401\u001b[0m \u001b[1;33m\u001b[0m\u001b[0m\n",
      "\u001b[1;32mC:\\ProgramData\\Anaconda3\\lib\\site-packages\\pandas\\core\\internals\\blocks.py\u001b[0m in \u001b[0;36m__init__\u001b[1;34m(self, values, placement, ndim)\u001b[0m\n\u001b[0;32m    130\u001b[0m             raise ValueError(\n\u001b[1;32m--> 131\u001b[1;33m                 \u001b[1;34mf\"Wrong number of items passed {len(self.values)}, \"\u001b[0m\u001b[1;33m\u001b[0m\u001b[1;33m\u001b[0m\u001b[0m\n\u001b[0m\u001b[0;32m    132\u001b[0m                 \u001b[1;34mf\"placement implies {len(self.mgr_locs)}\"\u001b[0m\u001b[1;33m\u001b[0m\u001b[1;33m\u001b[0m\u001b[0m\n",
      "\u001b[1;31mValueError\u001b[0m: Wrong number of items passed 1, placement implies 9",
      "\nDuring handling of the above exception, another exception occurred:\n",
      "\u001b[1;31mValueError\u001b[0m                                Traceback (most recent call last)",
      "\u001b[1;32m<ipython-input-46-35bda80fafee>\u001b[0m in \u001b[0;36m<module>\u001b[1;34m\u001b[0m\n\u001b[0;32m      9\u001b[0m     \u001b[0mprint\u001b[0m\u001b[1;33m\u001b[0m\u001b[1;33m\u001b[0m\u001b[0m\n\u001b[0;32m     10\u001b[0m     \u001b[1;32mbreak\u001b[0m\u001b[1;33m\u001b[0m\u001b[1;33m\u001b[0m\u001b[0m\n\u001b[1;32m---> 11\u001b[1;33m \u001b[0mdf\u001b[0m \u001b[1;33m=\u001b[0m \u001b[0mpd\u001b[0m\u001b[1;33m.\u001b[0m\u001b[0mDataFrame\u001b[0m\u001b[1;33m(\u001b[0m\u001b[0mdataFile\u001b[0m\u001b[1;33m,\u001b[0m\u001b[0mcolumns\u001b[0m \u001b[1;33m=\u001b[0m \u001b[1;33m[\u001b[0m\u001b[1;34m'Car'\u001b[0m\u001b[1;33m,\u001b[0m\u001b[1;34m'MPG'\u001b[0m\u001b[1;33m,\u001b[0m\u001b[1;34m'Cylinders'\u001b[0m\u001b[1;33m,\u001b[0m\u001b[1;34m'Displacement'\u001b[0m\u001b[1;33m,\u001b[0m\u001b[1;34m'Horsepower'\u001b[0m\u001b[1;33m,\u001b[0m\u001b[1;34m'Weight'\u001b[0m\u001b[1;33m,\u001b[0m\u001b[1;34m'Acceleration'\u001b[0m\u001b[1;33m,\u001b[0m\u001b[1;34m'Model'\u001b[0m\u001b[1;33m,\u001b[0m\u001b[1;34m'Origin'\u001b[0m\u001b[1;33m]\u001b[0m\u001b[1;33m)\u001b[0m\u001b[1;33m\u001b[0m\u001b[1;33m\u001b[0m\u001b[0m\n\u001b[0m\u001b[0;32m     12\u001b[0m \u001b[0mprint\u001b[0m\u001b[1;33m(\u001b[0m\u001b[0mdf\u001b[0m\u001b[1;33m.\u001b[0m\u001b[0mindex\u001b[0m\u001b[1;33m)\u001b[0m\u001b[1;33m\u001b[0m\u001b[1;33m\u001b[0m\u001b[0m\n",
      "\u001b[1;32mC:\\ProgramData\\Anaconda3\\lib\\site-packages\\pandas\\core\\frame.py\u001b[0m in \u001b[0;36m__init__\u001b[1;34m(self, data, index, columns, dtype, copy)\u001b[0m\n\u001b[0;32m    521\u001b[0m                     \u001b[0mmgr\u001b[0m \u001b[1;33m=\u001b[0m \u001b[0marrays_to_mgr\u001b[0m\u001b[1;33m(\u001b[0m\u001b[0marrays\u001b[0m\u001b[1;33m,\u001b[0m \u001b[0mcolumns\u001b[0m\u001b[1;33m,\u001b[0m \u001b[0mindex\u001b[0m\u001b[1;33m,\u001b[0m \u001b[0mcolumns\u001b[0m\u001b[1;33m,\u001b[0m \u001b[0mdtype\u001b[0m\u001b[1;33m=\u001b[0m\u001b[0mdtype\u001b[0m\u001b[1;33m)\u001b[0m\u001b[1;33m\u001b[0m\u001b[1;33m\u001b[0m\u001b[0m\n\u001b[0;32m    522\u001b[0m                 \u001b[1;32melse\u001b[0m\u001b[1;33m:\u001b[0m\u001b[1;33m\u001b[0m\u001b[1;33m\u001b[0m\u001b[0m\n\u001b[1;32m--> 523\u001b[1;33m                     \u001b[0mmgr\u001b[0m \u001b[1;33m=\u001b[0m \u001b[0minit_ndarray\u001b[0m\u001b[1;33m(\u001b[0m\u001b[0mdata\u001b[0m\u001b[1;33m,\u001b[0m \u001b[0mindex\u001b[0m\u001b[1;33m,\u001b[0m \u001b[0mcolumns\u001b[0m\u001b[1;33m,\u001b[0m \u001b[0mdtype\u001b[0m\u001b[1;33m=\u001b[0m\u001b[0mdtype\u001b[0m\u001b[1;33m,\u001b[0m \u001b[0mcopy\u001b[0m\u001b[1;33m=\u001b[0m\u001b[0mcopy\u001b[0m\u001b[1;33m)\u001b[0m\u001b[1;33m\u001b[0m\u001b[1;33m\u001b[0m\u001b[0m\n\u001b[0m\u001b[0;32m    524\u001b[0m             \u001b[1;32melse\u001b[0m\u001b[1;33m:\u001b[0m\u001b[1;33m\u001b[0m\u001b[1;33m\u001b[0m\u001b[0m\n\u001b[0;32m    525\u001b[0m                 \u001b[0mmgr\u001b[0m \u001b[1;33m=\u001b[0m \u001b[0minit_dict\u001b[0m\u001b[1;33m(\u001b[0m\u001b[1;33m{\u001b[0m\u001b[1;33m}\u001b[0m\u001b[1;33m,\u001b[0m \u001b[0mindex\u001b[0m\u001b[1;33m,\u001b[0m \u001b[0mcolumns\u001b[0m\u001b[1;33m,\u001b[0m \u001b[0mdtype\u001b[0m\u001b[1;33m=\u001b[0m\u001b[0mdtype\u001b[0m\u001b[1;33m)\u001b[0m\u001b[1;33m\u001b[0m\u001b[1;33m\u001b[0m\u001b[0m\n",
      "\u001b[1;32mC:\\ProgramData\\Anaconda3\\lib\\site-packages\\pandas\\core\\internals\\construction.py\u001b[0m in \u001b[0;36minit_ndarray\u001b[1;34m(values, index, columns, dtype, copy)\u001b[0m\n\u001b[0;32m    232\u001b[0m         \u001b[0mblock_values\u001b[0m \u001b[1;33m=\u001b[0m \u001b[1;33m[\u001b[0m\u001b[0mvalues\u001b[0m\u001b[1;33m]\u001b[0m\u001b[1;33m\u001b[0m\u001b[1;33m\u001b[0m\u001b[0m\n\u001b[0;32m    233\u001b[0m \u001b[1;33m\u001b[0m\u001b[0m\n\u001b[1;32m--> 234\u001b[1;33m     \u001b[1;32mreturn\u001b[0m \u001b[0mcreate_block_manager_from_blocks\u001b[0m\u001b[1;33m(\u001b[0m\u001b[0mblock_values\u001b[0m\u001b[1;33m,\u001b[0m \u001b[1;33m[\u001b[0m\u001b[0mcolumns\u001b[0m\u001b[1;33m,\u001b[0m \u001b[0mindex\u001b[0m\u001b[1;33m]\u001b[0m\u001b[1;33m)\u001b[0m\u001b[1;33m\u001b[0m\u001b[1;33m\u001b[0m\u001b[0m\n\u001b[0m\u001b[0;32m    235\u001b[0m \u001b[1;33m\u001b[0m\u001b[0m\n\u001b[0;32m    236\u001b[0m \u001b[1;33m\u001b[0m\u001b[0m\n",
      "\u001b[1;32mC:\\ProgramData\\Anaconda3\\lib\\site-packages\\pandas\\core\\internals\\managers.py\u001b[0m in \u001b[0;36mcreate_block_manager_from_blocks\u001b[1;34m(blocks, axes)\u001b[0m\n\u001b[0;32m   1679\u001b[0m         \u001b[0mblocks\u001b[0m \u001b[1;33m=\u001b[0m \u001b[1;33m[\u001b[0m\u001b[0mgetattr\u001b[0m\u001b[1;33m(\u001b[0m\u001b[0mb\u001b[0m\u001b[1;33m,\u001b[0m \u001b[1;34m\"values\"\u001b[0m\u001b[1;33m,\u001b[0m \u001b[0mb\u001b[0m\u001b[1;33m)\u001b[0m \u001b[1;32mfor\u001b[0m \u001b[0mb\u001b[0m \u001b[1;32min\u001b[0m \u001b[0mblocks\u001b[0m\u001b[1;33m]\u001b[0m\u001b[1;33m\u001b[0m\u001b[1;33m\u001b[0m\u001b[0m\n\u001b[0;32m   1680\u001b[0m         \u001b[0mtot_items\u001b[0m \u001b[1;33m=\u001b[0m \u001b[0msum\u001b[0m\u001b[1;33m(\u001b[0m\u001b[0mb\u001b[0m\u001b[1;33m.\u001b[0m\u001b[0mshape\u001b[0m\u001b[1;33m[\u001b[0m\u001b[1;36m0\u001b[0m\u001b[1;33m]\u001b[0m \u001b[1;32mfor\u001b[0m \u001b[0mb\u001b[0m \u001b[1;32min\u001b[0m \u001b[0mblocks\u001b[0m\u001b[1;33m)\u001b[0m\u001b[1;33m\u001b[0m\u001b[1;33m\u001b[0m\u001b[0m\n\u001b[1;32m-> 1681\u001b[1;33m         \u001b[1;32mraise\u001b[0m \u001b[0mconstruction_error\u001b[0m\u001b[1;33m(\u001b[0m\u001b[0mtot_items\u001b[0m\u001b[1;33m,\u001b[0m \u001b[0mblocks\u001b[0m\u001b[1;33m[\u001b[0m\u001b[1;36m0\u001b[0m\u001b[1;33m]\u001b[0m\u001b[1;33m.\u001b[0m\u001b[0mshape\u001b[0m\u001b[1;33m[\u001b[0m\u001b[1;36m1\u001b[0m\u001b[1;33m:\u001b[0m\u001b[1;33m]\u001b[0m\u001b[1;33m,\u001b[0m \u001b[0maxes\u001b[0m\u001b[1;33m,\u001b[0m \u001b[0me\u001b[0m\u001b[1;33m)\u001b[0m\u001b[1;33m\u001b[0m\u001b[1;33m\u001b[0m\u001b[0m\n\u001b[0m\u001b[0;32m   1682\u001b[0m \u001b[1;33m\u001b[0m\u001b[0m\n\u001b[0;32m   1683\u001b[0m \u001b[1;33m\u001b[0m\u001b[0m\n",
      "\u001b[1;31mValueError\u001b[0m: Shape of passed values is (406, 1), indices imply (406, 9)"
     ]
    }
   ],
   "source": [
    "# Write your solution here\n",
    "import csv\n",
    "import pandas as pd\n",
    "df_q1,df_q3,ps_q2,ps_q4 = None,None,None,None\n",
    "dataFile =  open('cars.csv', 'r')\n",
    "reader = csv.reader(dataFile)\n",
    "\n",
    "for row in reader:\n",
    "    print\n",
    "    break\n",
    "df = pd.DataFrame(dataFile,columns =['Car','MPG','Cylinders','Displacement','Horsepower','Weight','Acceleration','Model','Origin'])\n",
    "print(df.index)"
   ]
  },
  {
   "cell_type": "markdown",
   "metadata": {},
   "source": [
    "<!-- END QUESTION -->\n",
    "\n",
    "<!-- BEGIN QUESTION -->\n",
    "\n",
    "## Part IV&nbsp;&nbsp;&nbsp;&nbsp;&nbsp;&nbsp;(25 Points)"
   ]
  },
  {
   "cell_type": "code",
   "execution_count": null,
   "metadata": {},
   "outputs": [],
   "source": [
    "# Write your solution here\n",
    "cereal_ratings=None\n",
    "import json\n",
    "jstr = '''{\"name\": [\"100% Bran\", \"100% Natural Bran\", \"All-Bran\", \"All-Bran with Extra Fiber\", \"Almond Delight\", \"Apple Cinnamon Cheerios\", \"Apple Jacks\", \"Basic 4\", \"Bran Chex\", \"Bran Flakes\", \"Cap'n'Crunch\", \"Cheerios\", \"Cinnamon Toast Crunch\", \"Clusters\", \"Cocoa Puffs\", \"Corn Chex\", \"Corn Flakes\", \"Corn Pops\", \"Count Chocula\", \"Cracklin' Oat Bran\", \"Cream of Wheat (Quick)\", \"Crispix\", \"Crispy Wheat & Raisins\", \"Double Chex\", \"Froot Loops\", \"Frosted Flakes\", \"Frosted Mini-Wheats\", \"Fruit & Fibre Dates, Walnuts, and Oats\", \"Fruitful Bran\", \"Fruity Pebbles\", \"Golden Crisp\", \"Golden Grahams\", \"Grape Nuts Flakes\", \"Grape-Nuts\", \"Great Grains Pecan\", \"Honey Graham Ohs\", \"Honey Nut Cheerios\", \"Honey-comb\", \"Just Right Crunchy  Nuggets\", \"Just Right Fruit & Nut\", \"Kix\", \"Life\", \"Lucky Charms\", \"Maypo\", \"Muesli Raisins, Dates, & Almonds\", \"Muesli Raisins, Peaches, & Pecans\", \"Mueslix Crispy Blend\", \"Multi-Grain Cheerios\", \"Nut&Honey Crunch\", \"Nutri-Grain Almond-Raisin\", \"Nutri-grain Wheat\", \"Oatmeal Raisin Crisp\", \"Post Nat. Raisin Bran\", \"Product 19\", \"Puffed Rice\", \"Puffed Wheat\", \"Quaker Oat Squares\", \"Quaker Oatmeal\", \"Raisin Bran\", \"Raisin Nut Bran\", \"Raisin Squares\", \"Rice Chex\", \"Rice Krispies\", \"Shredded Wheat\", \"Shredded Wheat 'n'Bran\", \"Shredded Wheat spoon size\", \"Smacks\", \"Special K\", \"Strawberry Fruit Wheats\", \"Total Corn Flakes\", \"Total Raisin Bran\", \"Total Whole Grain\", \"Triples\", \"Trix\", \"Wheat Chex\", \"Wheaties\", \"Wheaties Honey Gold\"], \"mfr\": [\"N\", \"Q\", \"K\", \"K\", \"R\", \"G\", \"K\", \"G\", \"R\", \"P\", \"Q\", \"G\", \"G\", \"G\", \"G\", \"R\", \"K\", \"K\", \"G\", \"K\", \"N\", \"K\", \"G\", \"R\", \"K\", \"K\", \"K\", \"P\", \"K\", \"P\", \"P\", \"G\", \"P\", \"P\", \"P\", \"Q\", \"G\", \"P\", \"K\", \"K\", \"G\", \"Q\", \"G\", \"A\", \"R\", \"R\", \"K\", \"G\", \"K\", \"K\", \"K\", \"G\", \"P\", \"K\", \"Q\", \"Q\", \"Q\", \"Q\", \"K\", \"G\", \"K\", \"R\", \"K\", \"N\", \"N\", \"N\", \"K\", \"K\", \"N\", \"G\", \"G\", \"G\", \"G\", \"G\", \"R\", \"G\", \"G\"], \"type\": [\"C\", \"C\", \"C\", \"C\", \"C\", \"C\", \"C\", \"C\", \"C\", \"C\", \"C\", \"C\", \"C\", \"C\", \"C\", \"C\", \"C\", \"C\", \"C\", \"C\", \"H\", \"C\", \"C\", \"C\", \"C\", \"C\", \"C\", \"C\", \"C\", \"C\", \"C\", \"C\", \"C\", \"C\", \"C\", \"C\", \"C\", \"C\", \"C\", \"C\", \"C\", \"C\", \"C\", \"H\", \"C\", \"C\", \"C\", \"C\", \"C\", \"C\", \"C\", \"C\", \"C\", \"C\", \"C\", \"C\", \"C\", \"H\", \"C\", \"C\", \"C\", \"C\", \"C\", \"C\", \"C\", \"C\", \"C\", \"C\", \"C\", \"C\", \"C\", \"C\", \"C\", \"C\", \"C\", \"C\", \"C\"], \"calories\": [\"70\", \"120\", \"70\", \"50\", \"110\", \"110\", \"110\", \"130\", \"90\", \"90\", \"120\", \"110\", \"120\", \"110\", \"110\", \"110\", \"100\", \"110\", \"110\", \"110\", \"100\", \"110\", \"100\", \"100\", \"110\", \"110\", \"100\", \"120\", \"120\", \"110\", \"100\", \"110\", \"100\", \"110\", \"120\", \"120\", \"110\", \"110\", \"110\", \"140\", \"110\", \"100\", \"110\", \"100\", \"150\", \"150\", \"160\", \"100\", \"120\", \"140\", \"90\", \"130\", \"120\", \"100\", \"50\", \"50\", \"100\", \"100\", \"120\", \"100\", \"90\", \"110\", \"110\", \"80\", \"90\", \"90\", \"110\", \"110\", \"90\", \"110\", \"140\", \"100\", \"110\", \"110\", \"100\", \"100\", \"110\"], \"protein\": [\"4\", \"3\", \"4\", \"4\", \"2\", \"2\", \"2\", \"3\", \"2\", \"3\", \"1\", \"6\", \"1\", \"3\", \"1\", \"2\", \"2\", \"1\", \"1\", \"3\", \"3\", \"2\", \"2\", \"2\", \"2\", \"1\", \"3\", \"3\", \"3\", \"1\", \"2\", \"1\", \"3\", \"3\", \"3\", \"1\", \"3\", \"1\", \"2\", \"3\", \"2\", \"4\", \"2\", \"4\", \"4\", \"4\", \"3\", \"2\", \"2\", \"3\", \"3\", \"3\", \"3\", \"3\", \"1\", \"2\", \"4\", \"5\", \"3\", \"3\", \"2\", \"1\", \"2\", \"2\", \"3\", \"3\", \"2\", \"6\", \"2\", \"2\", \"3\", \"3\", \"2\", \"1\", \"3\", \"3\", \"2\"], \"fat\": [\"1\", \"5\", \"1\", \"0\", \"2\", \"2\", \"0\", \"2\", \"1\", \"0\", \"2\", \"2\", \"3\", \"2\", \"1\", \"0\", \"0\", \"0\", \"1\", \"3\", \"0\", \"0\", \"1\", \"0\", \"1\", \"0\", \"0\", \"2\", \"0\", \"1\", \"0\", \"1\", \"1\", \"0\", \"3\", \"2\", \"1\", \"0\", \"1\", \"1\", \"1\", \"2\", \"1\", \"1\", \"3\", \"3\", \"2\", \"1\", \"1\", \"2\", \"0\", \"2\", \"1\", \"0\", \"0\", \"0\", \"1\", \"2\", \"1\", \"2\", \"0\", \"0\", \"0\", \"0\", \"0\", \"0\", \"1\", \"0\", \"0\", \"1\", \"1\", \"1\", \"1\", \"1\", \"1\", \"1\", \"1\"], \"sodium\": [\"130\", \"15\", \"260\", \"140\", \"200\", \"180\", \"125\", \"210\", \"200\", \"210\", \"220\", \"290\", \"210\", \"140\", \"180\", \"280\", \"290\", \"90\", \"180\", \"140\", \"80\", \"220\", \"140\", \"190\", \"125\", \"200\", \"0\", \"160\", \"240\", \"135\", \"45\", \"280\", \"140\", \"170\", \"75\", \"220\", \"250\", \"180\", \"170\", \"170\", \"260\", \"150\", \"180\", \"0\", \"95\", \"150\", \"150\", \"220\", \"190\", \"220\", \"170\", \"170\", \"200\", \"320\", \"0\", \"0\", \"135\", \"0\", \"210\", \"140\", \"0\", \"240\", \"290\", \"0\", \"0\", \"0\", \"70\", \"230\", \"15\", \"200\", \"190\", \"200\", \"250\", \"140\", \"230\", \"200\", \"200\"], \"fiber\": [\"10\", \"2\", \"9\", \"14\", \"1\", \"1.5\", \"1\", \"2\", \"4\", \"5\", \"0\", \"2\", \"0\", \"2\", \"0\", \"0\", \"1\", \"1\", \"0\", \"4\", \"1\", \"1\", \"2\", \"1\", \"1\", \"1\", \"3\", \"5\", \"5\", \"0\", \"0\", \"0\", \"3\", \"3\", \"3\", \"1\", \"1.5\", \"0\", \"1\", \"2\", \"0\", \"2\", \"0\", \"0\", \"3\", \"3\", \"3\", \"2\", \"0\", \"3\", \"3\", \"1.5\", \"6\", \"1\", \"0\", \"1\", \"2\", \"2.7\", \"5\", \"2.5\", \"2\", \"0\", \"0\", \"3\", \"4\", \"3\", \"1\", \"1\", \"3\", \"0\", \"4\", \"3\", \"0\", \"0\", \"3\", \"3\", \"1\"], \"carbo\": [\"5\", \"8\", \"7\", \"8\", \"14\", \"10.5\", \"11\", \"18\", \"15\", \"13\", \"12\", \"17\", \"13\", \"13\", \"12\", \"22\", \"21\", \"13\", \"12\", \"10\", \"21\", \"21\", \"11\", \"18\", \"11\", \"14\", \"14\", \"12\", \"14\", \"13\", \"11\", \"15\", \"15\", \"17\", \"13\", \"12\", \"11.5\", \"14\", \"17\", \"20\", \"21\", \"12\", \"12\", \"16\", \"16\", \"16\", \"17\", \"15\", \"15\", \"21\", \"18\", \"13.5\", \"11\", \"20\", \"13\", \"10\", \"14\", \"-1\", \"14\", \"10.5\", \"15\", \"23\", \"22\", \"16\", \"19\", \"20\", \"9\", \"16\", \"15\", \"21\", \"15\", \"16\", \"21\", \"13\", \"17\", \"17\", \"16\"], \"sugars\": [\"6\", \"8\", \"5\", \"0\", \"8\", \"10\", \"14\", \"8\", \"6\", \"5\", \"12\", \"1\", \"9\", \"7\", \"13\", \"3\", \"2\", \"12\", \"13\", \"7\", \"0\", \"3\", \"10\", \"5\", \"13\", \"11\", \"7\", \"10\", \"12\", \"12\", \"15\", \"9\", \"5\", \"3\", \"4\", \"11\", \"10\", \"11\", \"6\", \"9\", \"3\", \"6\", \"12\", \"3\", \"11\", \"11\", \"13\", \"6\", \"9\", \"7\", \"2\", \"10\", \"14\", \"3\", \"0\", \"0\", \"6\", \"-1\", \"12\", \"8\", \"6\", \"2\", \"3\", \"0\", \"0\", \"0\", \"15\", \"3\", \"5\", \"3\", \"14\", \"3\", \"3\", \"12\", \"3\", \"3\", \"8\"], \"potass\": [\"280\", \"135\", \"320\", \"330\", \"-1\", \"70\", \"30\", \"100\", \"125\", \"190\", \"35\", \"105\", \"45\", \"105\", \"55\", \"25\", \"35\", \"20\", \"65\", \"160\", \"-1\", \"30\", \"120\", \"80\", \"30\", \"25\", \"100\", \"200\", \"190\", \"25\", \"40\", \"45\", \"85\", \"90\", \"100\", \"45\", \"90\", \"35\", \"60\", \"95\", \"40\", \"95\", \"55\", \"95\", \"170\", \"170\", \"160\", \"90\", \"40\", \"130\", \"90\", \"120\", \"260\", \"45\", \"15\", \"50\", \"110\", \"110\", \"240\", \"140\", \"110\", \"30\", \"35\", \"95\", \"140\", \"120\", \"40\", \"55\", \"90\", \"35\", \"230\", \"110\", \"60\", \"25\", \"115\", \"110\", \"60\"], \"vitamins\": [\"25\", \"0\", \"25\", \"25\", \"25\", \"25\", \"25\", \"25\", \"25\", \"25\", \"25\", \"25\", \"25\", \"25\", \"25\", \"25\", \"25\", \"25\", \"25\", \"25\", \"0\", \"25\", \"25\", \"25\", \"25\", \"25\", \"25\", \"25\", \"25\", \"25\", \"25\", \"25\", \"25\", \"25\", \"25\", \"25\", \"25\", \"25\", \"100\", \"100\", \"25\", \"25\", \"25\", \"25\", \"25\", \"25\", \"25\", \"25\", \"25\", \"25\", \"25\", \"25\", \"25\", \"100\", \"0\", \"0\", \"25\", \"0\", \"25\", \"25\", \"25\", \"25\", \"25\", \"0\", \"0\", \"0\", \"25\", \"25\", \"25\", \"100\", \"100\", \"100\", \"25\", \"25\", \"25\", \"25\", \"25\"], \"shelf\": [\"3\", \"3\", \"3\", \"3\", \"3\", \"1\", \"2\", \"3\", \"1\", \"3\", \"2\", \"1\", \"2\", \"3\", \"2\", \"1\", \"1\", \"2\", \"2\", \"3\", \"2\", \"3\", \"3\", \"3\", \"2\", \"1\", \"2\", \"3\", \"3\", \"2\", \"1\", \"2\", \"3\", \"3\", \"3\", \"2\", \"1\", \"1\", \"3\", \"3\", \"2\", \"2\", \"2\", \"2\", \"3\", \"3\", \"3\", \"1\", \"2\", \"3\", \"3\", \"3\", \"3\", \"3\", \"3\", \"3\", \"3\", \"1\", \"2\", \"3\", \"3\", \"1\", \"1\", \"1\", \"1\", \"1\", \"2\", \"1\", \"2\", \"3\", \"3\", \"3\", \"3\", \"2\", \"1\", \"1\", \"1\"], \"weight\": [\"1\", \"1\", \"1\", \"1\", \"1\", \"1\", \"1\", \"1.33\", \"1\", \"1\", \"1\", \"1\", \"1\", \"1\", \"1\", \"1\", \"1\", \"1\", \"1\", \"1\", \"1\", \"1\", \"1\", \"1\", \"1\", \"1\", \"1\", \"1.25\", \"1.33\", \"1\", \"1\", \"1\", \"1\", \"1\", \"1\", \"1\", \"1\", \"1\", \"1\", \"1.3\", \"1\", \"1\", \"1\", \"1\", \"1\", \"1\", \"1.5\", \"1\", \"1\", \"1.33\", \"1\", \"1.25\", \"1.33\", \"1\", \"0.5\", \"0.5\", \"1\", \"1\", \"1.33\", \"1\", \"1\", \"1\", \"1\", \"0.83\", \"1\", \"1\", \"1\", \"1\", \"1\", \"1\", \"1.5\", \"1\", \"1\", \"1\", \"1\", \"1\", \"1\"], \"cups\": [\"0.33\", \"1\", \"0.33\", \"0.5\", \"0.75\", \"0.75\", \"1\", \"0.75\", \"0.67\", \"0.67\", \"0.75\", \"1.25\", \"0.75\", \"0.5\", \"1\", \"1\", \"1\", \"1\", \"1\", \"0.5\", \"1\", \"1\", \"0.75\", \"0.75\", \"1\", \"0.75\", \"0.8\", \"0.67\", \"0.67\", \"0.75\", \"0.88\", \"0.75\", \"0.88\", \"0.25\", \"0.33\", \"1\", \"0.75\", \"1.33\", \"1\", \"0.75\", \"1.5\", \"0.67\", \"1\", \"1\", \"1\", \"1\", \"0.67\", \"1\", \"0.67\", \"0.67\", \"1\", \"0.5\", \"0.67\", \"1\", \"1\", \"1\", \"0.5\", \"0.67\", \"0.75\", \"0.5\", \"0.5\", \"1.13\", \"1\", \"1\", \"0.67\", \"0.67\", \"0.75\", \"1\", \"1\", \"1\", \"1\", \"1\", \"0.75\", \"1\", \"0.67\", \"1\", \"0.75\"], \"rating\": [\"68.402973\", \"33.983679\", \"59.425505\", \"93.704912\", \"34.384843\", \"29.509541\", \"33.174094\", \"37.038562\", \"49.120253\", \"53.313813\", \"18.042851\", \"50.764999\", \"19.823573\", \"40.400208\", \"22.736446\", \"41.445019\", \"45.863324\", \"35.782791\", \"22.396513\", \"40.448772\", \"64.533816\", \"46.895644\", \"36.176196\", \"44.330856\", \"32.207582\", \"31.435973\", \"58.345141\", \"40.917047\", \"41.015492\", \"28.025765\", \"35.252444\", \"23.804043\", \"52.076897\", \"53.371007\", \"45.811716\", \"21.871292\", \"31.072217\", \"28.742414\", \"36.523683\", \"36.471512\", \"39.241114\", \"45.328074\", \"26.734515\", \"54.850917\", \"37.136863\", \"34.139765\", \"30.313351\", \"40.105965\", \"29.924285\", \"40.692320\", \"59.642837\", \"30.450843\", \"37.840594\", \"41.503540\", \"60.756112\", \"63.005645\", \"49.511874\", \"50.828392\", \"39.259197\", \"39.703400\", \"55.333142\", \"41.998933\", \"40.560159\", \"68.235885\", \"74.472949\", \"72.801787\", \"31.230054\", \"53.131324\", \"59.363993\", \"38.839746\", \"28.592785\", \"46.658844\", \"39.106174\", \"27.753301\", \"49.787445\", \"51.592193\", \"36.187559\"]}'''\n",
    "jdata = json.loads(jstr)\n",
    "print(jdata)"
   ]
  },
  {
   "cell_type": "markdown",
   "metadata": {},
   "source": [
    "<!-- END QUESTION -->\n",
    "\n"
   ]
  },
  {
   "cell_type": "markdown",
   "metadata": {},
   "source": [
    "<!-- END QUESTION -->\n",
    "\n",
    "<!-- BEGIN QUESTION -->\n",
    "\n",
    "## Part V&nbsp;&nbsp;&nbsp;&nbsp;&nbsp;&nbsp;(20 Points)"
   ]
  },
  {
   "cell_type": "code",
   "execution_count": 53,
   "metadata": {
    "ExecuteTime": {
     "end_time": "2022-03-11T04:54:44.265214Z",
     "start_time": "2022-03-11T04:54:35.904128Z"
    }
   },
   "outputs": [
    {
     "name": "stdout",
     "output_type": "stream",
     "text": [
      "Welcome Guest. Please choose the city where you want to reserve a room\n",
      "0   Melbourne : Cost per day of stay 200 AUD\n",
      "1   Adelaide : Cost per day of stay 250 AUD\n",
      "2   Canberra : Cost per day of stay 230 AUD\n",
      "3   Sydney : Cost per day of stay 250 AUD\n",
      "4   Perth : Cost per day of stay 320 AUD\n",
      "Enter the number corresponding to the city you would like to book1\n",
      "Enter the number of days you would like to book for20\n",
      "You have selected to stay at Melbourne for 20 days\n",
      "You get a discount\n",
      "Your total cost is 4750.0 AUD\n"
     ]
    }
   ],
   "source": [
    "Cities=['Melbourne','Adelaide','Canberra','Sydney','Perth']#List to store city names\n",
    "StoreCost=[250,230,250,320,200]#List to store cost of \n",
    "print(\"Welcome Guest. Please choose the city where you want to reserve a room\")\n",
    "i=1\n",
    "#for city in Cities:\n",
    "for i, city in enumerate(Cities):\n",
    "    print(i,' ',city,': Cost per day of stay',StoreCost[i-1],'AUD')\n",
    "    #i+=1\n",
    "BookCity=input('Enter the number corresponding to the city you would like to book')#selected city\n",
    "Days=input('Enter the number of days you would like to book for')#selcted duration\n",
    "d=0 #discount set to 0 \n",
    "if (int(Days)>=7 and int(BookCity)!=4):\n",
    "    d=0.05\n",
    "elif (int(BookCity)==5):\n",
    "    d=0.1\n",
    "else: pass\n",
    "print('You have selected to stay at',Cities[int(BookCity)-1],'for',Days,'days')\n",
    "if(d>0):\n",
    "    print(\"You get a discount\")\n",
    "print('Your total cost is',StoreCost[int(BookCity)-1]*int(Days)*(1-d),'AUD')"
   ]
  },
  {
   "cell_type": "code",
   "execution_count": null,
   "metadata": {},
   "outputs": [],
   "source": []
  }
 ],
 "metadata": {
  "celltoolbar": "Edit Metadata",
  "kernelspec": {
   "display_name": "Python 3",
   "language": "python",
   "name": "python3"
  },
  "language_info": {
   "codemirror_mode": {
    "name": "ipython",
    "version": 3
   },
   "file_extension": ".py",
   "mimetype": "text/x-python",
   "name": "python",
   "nbconvert_exporter": "python",
   "pygments_lexer": "ipython3",
   "version": "3.6.13"
  },
  "varInspector": {
   "cols": {
    "lenName": 16,
    "lenType": 16,
    "lenVar": 40
   },
   "kernels_config": {
    "python": {
     "delete_cmd_postfix": "",
     "delete_cmd_prefix": "del ",
     "library": "var_list.py",
     "varRefreshCmd": "print(var_dic_list())"
    },
    "r": {
     "delete_cmd_postfix": ") ",
     "delete_cmd_prefix": "rm(",
     "library": "var_list.r",
     "varRefreshCmd": "cat(var_dic_list()) "
    }
   },
   "position": {
    "height": "363.844px",
    "left": "1550px",
    "right": "20px",
    "top": "120px",
    "width": "350px"
   },
   "types_to_exclude": [
    "module",
    "function",
    "builtin_function_or_method",
    "instance",
    "_Feature"
   ],
   "window_display": true
  }
 },
 "nbformat": 4,
 "nbformat_minor": 4
}
